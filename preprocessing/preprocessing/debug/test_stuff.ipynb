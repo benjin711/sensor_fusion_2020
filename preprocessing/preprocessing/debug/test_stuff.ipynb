{
 "metadata": {
  "language_info": {
   "codemirror_mode": {
    "name": "ipython",
    "version": 3
   },
   "file_extension": ".py",
   "mimetype": "text/x-python",
   "name": "python",
   "nbconvert_exporter": "python",
   "pygments_lexer": "ipython3",
   "version": "3.6.9-final"
  },
  "orig_nbformat": 2,
  "kernelspec": {
   "name": "python36964bitpreprocessingpipenvb4d93c06f759412ab6ed33e9d678f997",
   "display_name": "Python 3.6.9 64-bit ('preprocessing': pipenv)"
  }
 },
 "nbformat": 4,
 "nbformat_minor": 2,
 "cells": [
  {
   "cell_type": "code",
   "execution_count": 3,
   "metadata": {
    "tags": []
   },
   "outputs": [
    {
     "output_type": "stream",
     "name": "stdout",
     "text": "{&#39;fw_lidar_to_mrh_lidar&#39;: {&#39;translation&#39;: {&#39;x&#39;: 0.05, &#39;y&#39;: -2.0, &#39;z&#39;: -0.69}, &#39;rotation&#39;: {&#39;yaw&#39;: 3.143, &#39;pitch&#39;: -3.13, &#39;roll&#39;: 3.11}}, &#39;mrh_lidar_to_egomotion&#39;: {&#39;translation&#39;: {&#39;x&#39;: -0.353, &#39;y&#39;: 0.0, &#39;z&#39;: 0.901}, &#39;rotation&#39;: {&#39;yaw&#39;: 1.56, &#39;pitch&#39;: 0.0, &#39;roll&#39;: 0.06}}}\n"
    }
   ],
   "source": [
    "import yaml\n",
    "\n",
    "with open(\"/media/benjin/Samsung_T5/AMZ/sensor_fusion_data/2020-08-02_tuggen/static_transformations/static_transformations.yaml\", \"r\") as file:\n",
    "    static_transformations = yaml.load(file, Loader=yaml.FullLoader)\n",
    "\n",
    "for _, item in static_transformations.items():\n",
    "    static_transformations = item\n",
    "\n",
    "print(static_transformations) "
   ]
  },
  {
   "cell_type": "code",
   "execution_count": 16,
   "metadata": {
    "tags": []
   },
   "outputs": [
    {
     "output_type": "stream",
     "name": "stdout",
     "text": "{'fw_lidar_to_mrh_lidar': array([[ 9.99931816e-01, -1.40725138e-03, -1.15923939e-02,\n         5.00000000e-02],\n       [ 1.77281687e-03,  9.99499488e-01,  3.15852760e-02,\n        -2.00000000e+00],\n       [ 1.15421434e-02, -3.16036735e-02,  9.99433833e-01,\n        -6.90000000e-01],\n       [ 0.00000000e+00,  0.00000000e+00,  0.00000000e+00,\n         1.00000000e+00]]), 'mrh_lidar_to_egomotion': array([[ 1.07961171e-02, -9.99941720e-01,  0.00000000e+00,\n        -3.53000000e-01],\n       [ 9.98142365e-01,  1.07766899e-02, -5.99640065e-02,\n         0.00000000e+00],\n       [ 5.99605118e-02,  6.47378433e-04,  9.98200540e-01,\n         9.01000000e-01],\n       [ 0.00000000e+00,  0.00000000e+00,  0.00000000e+00,\n         1.00000000e+00]])}\n"
    }
   ],
   "source": [
    "from scipy.spatial.transform import Rotation as R    \n",
    "import numpy as np\n",
    "\n",
    "\n",
    "for id, transformation in static_transformations.items():\n",
    "    yaw = transformation['rotation']['yaw']\n",
    "    pitch = transformation['rotation']['pitch']\n",
    "    roll = transformation['rotation']['roll']\n",
    "    x = transformation['translation']['x']\n",
    "    y = transformation['translation']['y']\n",
    "    z = transformation['translation']['z']\n",
    "    r = R.from_euler('zyx', [yaw, pitch, roll], degrees=False)\n",
    "    t = np.array([x, y, z])\n",
    "\n",
    "    T = np.zeros((4, 4))\n",
    "    T[:3, :3] = r.as_matrix()\n",
    "    T[:3, 3] = t\n",
    "    T[3, 3] = 1\n",
    "\n",
    "    static_transformations[id] = T\n",
    "\n",
    "\n",
    "print(static_transformations)"
   ]
  },
  {
   "cell_type": "code",
   "execution_count": null,
   "metadata": {},
   "outputs": [],
   "source": []
  }
 ]
}